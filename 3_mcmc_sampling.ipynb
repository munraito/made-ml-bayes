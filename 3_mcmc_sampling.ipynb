{
 "cells": [
  {
   "cell_type": "code",
   "execution_count": 1,
   "metadata": {},
   "outputs": [],
   "source": [
    "import string\n",
    "import re\n",
    "from collections import Counter\n",
    "from tqdm import tqdm\n",
    "from copy import copy\n",
    "\n",
    "import pandas as pd\n",
    "import numpy as np\n",
    "import matplotlib.pyplot as plt\n",
    "%matplotlib inline  "
   ]
  },
  {
   "cell_type": "code",
   "execution_count": 2,
   "metadata": {},
   "outputs": [],
   "source": [
    "ALPHABET = ' абвгдежзийклмнопрстуфхцчшщъыьэюя'\n",
    "ALPHABET_EN = string.ascii_lowercase + ' '"
   ]
  },
  {
   "cell_type": "code",
   "execution_count": 3,
   "metadata": {},
   "outputs": [
    {
     "data": {
      "text/plain": [
       "'анна каренина один из самых знаменитых романов льва толстого начинается ставшей афоризмом фразой все счастливые семьи похожи друг на друга каждая несчастливая семья несчастлива посвоему это книга о вечных ценностях о любви о вере о семье о человеческом достоинстве лев толстойроман широкого дыханиячасть перваялев толстойанна каренинароман широкого дыханияанна каренина поразила современников вседневностью содержания необычайная свобода раскованность повествования удивительно сочетались в этом романе с цельностью художественного взгляда автора на жизнь он выступал здесь как художник и мыслитель и назначение искусства видел не в том чтобы неоспоримо разрешить вопрос а в том чтобы заставить любить жизнь в бесчисленных никогда не истощимых всех ее проявлениях в е годы один маститый писатель повидимому гончаров сказал достоевскому это вещь неслыханная это вещь первая кто у нас из писателей может поравняться с этим а в европе кто представит хоть чтонибудь подобное фм достоевский находил в ново'"
      ]
     },
     "execution_count": 3,
     "metadata": {},
     "output_type": "execute_result"
    }
   ],
   "source": [
    "with open('corpora/AnnaKarenina.txt', 'r') as iofile:\n",
    "    text_1 = iofile.read().lower()\n",
    "with open('corpora/WarAndPeace.txt', 'r') as iofile:\n",
    "    text_2 = iofile.read().lower()\n",
    "text_ru = text_1 + text_2\n",
    "text_ru = ''.join([c for c in text_ru if c in ALPHABET])\n",
    "text_ru = re.sub('\\s+', ' ', text_ru)\n",
    "text_ru[:1000]"
   ]
  },
  {
   "cell_type": "code",
   "execution_count": 4,
   "metadata": {},
   "outputs": [
    {
     "data": {
      "text/plain": [
       "'the project gutenberg ebook of war and peace by leo tolstoythis ebook is for the use of anyone anywhere at no cost and with almostno restrictions whatsoever you may copy it give it away or reuse itunder the terms of the project gutenberg license included with thisebook or online at wwwgutenbergorgtitle war and peaceauthor leo tolstoytranslators louise and aylmer maudeposting date january ebook last updated march language english start of this project gutenberg ebook war and peace an anonymous volunteer and david widgerwar and peaceby leo tolstoytolstoicontentsbook one chapter ichapter iichapter iiichapter ivchapter vchapter vichapter viichapter viiichapter ixchapter xchapter xichapter xiichapter xiiichapter xivchapter xvchapter xvichapter xviichapter xviiichapter xixchapter xxchapter xxichapter xxiichapter xxiiichapter xxivchapter xxvchapter xxvichapter xxviichapter xxviiibook two chapter ichapter iichapter iiichapter ivchapter vchapter vichapter viichapter viiichapter ixchapter xchapt'"
      ]
     },
     "execution_count": 4,
     "metadata": {},
     "output_type": "execute_result"
    }
   ],
   "source": [
    "with open('corpora/WarAndPeaceEng.txt', 'r') as iofile:\n",
    "    text_en = iofile.read().lower()\n",
    "text_en = ''.join([c for c in text_en if c in ALPHABET_EN])\n",
    "text_en = re.sub('\\s+', ' ', text_en)\n",
    "text_en[:1000]"
   ]
  },
  {
   "cell_type": "code",
   "execution_count": 5,
   "metadata": {},
   "outputs": [
    {
     "data": {
      "text/plain": [
       "(2330472, 3046439)"
      ]
     },
     "execution_count": 5,
     "metadata": {},
     "output_type": "execute_result"
    }
   ],
   "source": [
    "len(text_ru), len(text_en)"
   ]
  },
  {
   "cell_type": "markdown",
   "metadata": {},
   "source": [
    "### Простейший частотный метод (униграммы)"
   ]
  },
  {
   "cell_type": "code",
   "execution_count": 6,
   "metadata": {},
   "outputs": [],
   "source": [
    "def get_random_substr(text, substr_len=1000):\n",
    "    idx = np.random.randint(0, len(text) - substr_len + 1)\n",
    "    return text[idx : idx + substr_len]\n",
    "\n",
    "def get_init_char_map(alphabet):\n",
    "    orig_chars = list(alphabet)\n",
    "    permuted_chars = np.random.permutation(orig_chars)\n",
    "    return dict(zip(orig_chars, permuted_chars))\n",
    "\n",
    "def encode_by_map(text, char_map):\n",
    "#     print(len(char_map), len(set(text)))\n",
    "    assert len(char_map) >= len(set(text))\n",
    "    return ''.join([char_map[c] if c in char_map else 'о' for c in text])\n",
    "\n",
    "def decode_by_freq(text, corpora_counter):\n",
    "    orig_freq = [i[0] for i in corpora_counter.most_common()]\n",
    "    enc_freq = [i[0] for i in Counter(text).most_common()]\n",
    "    freq_map = dict(zip(enc_freq, orig_freq))\n",
    "    return ''.join([freq_map[c] for c in text])\n",
    "\n",
    "def evaluate_accuracy(orig, decoded):\n",
    "    assert len(orig) == len(decoded)\n",
    "    correct_cnt = 0\n",
    "    for i in range(len(orig)):\n",
    "        if orig[i] == decoded[i]:\n",
    "            correct_cnt += 1\n",
    "    return correct_cnt / len(orig)\n",
    "\n",
    "def test_on_corpora(text, alphabet):\n",
    "    corpora_counter = Counter(text)\n",
    "    results = {}\n",
    "    for char_len in [100, 1000, 10_000, 20_000, 30_000, 40_000, 50_000, 100_000]:\n",
    "        acc = []\n",
    "        for _ in range(10):\n",
    "            substr = get_random_substr(text, char_len)\n",
    "            ch_map = get_init_char_map(alphabet)\n",
    "            encoded_str = encode_by_map(substr, ch_map)\n",
    "            decoded_str = decode_by_freq(encoded_str, corpora_counter)\n",
    "            acc.append(evaluate_accuracy(substr, decoded_str))\n",
    "        results[char_len] = sum(acc) / len(acc)\n",
    "    plt.plot(list(results.keys()), list(results.values()))\n",
    "    plt.xlabel('Characters')\n",
    "    plt.ylabel('Accuracy')\n",
    "    plt.title('Basic frequency method (uni-grams)')\n",
    "    plt.show()\n",
    "    return results"
   ]
  },
  {
   "cell_type": "code",
   "execution_count": 7,
   "metadata": {},
   "outputs": [],
   "source": [
    "corpora_counter = Counter(text_ru)"
   ]
  },
  {
   "cell_type": "code",
   "execution_count": 8,
   "metadata": {},
   "outputs": [
    {
     "data": {
      "text/plain": [
       "'лько тем что видел в сердце кити страх девства и униженья и любя ее он почувствовал этот страх и униженье и сразу отрекся от своих доводовнаступило молчание она все чертила мелом по столу глаза ее блестели тихим блеском подчиняясь ее настроению он чувствовал во всем существе своем все усиливающееся напряжение счастия ах я весь стол исчертила сказала она и положив мелок сделала движенье как будто хотела встатькак же я останусь один без нее с ужасом подумал он и взял мелок постойте сказал он садясь к столу я давно хотел спросить у вас одну вещьон глядел ей прямо в ласковые хотя и испуганные глаза пожалуйста спросите вот сказал он и написал начальные буквы к в м о э н м б з л э н и т буквы эти значили когда вы мне ответили этого не может быть значило ли это что никогда или тогда не было никакой вероятности чтоб она могла понять эту сложную фразу но он посмотрел на нее с таким видом что жизнь его зависит от того поймет ли она эти словаона взглянула на него серьезно потом оперла нахмуренный'"
      ]
     },
     "execution_count": 8,
     "metadata": {},
     "output_type": "execute_result"
    }
   ],
   "source": [
    "substr = get_random_substr(text_ru, 1000)\n",
    "substr"
   ]
  },
  {
   "cell_type": "code",
   "execution_count": 9,
   "metadata": {},
   "outputs": [
    {
     "data": {
      "text/plain": [
       "'жъмнсрчщсбрнсэйичжсэсычкилчсмйрйсыркгьсичэырэгсйсфойхчоъвсйсжтювсччсносзнбфэырэнэгжс рнрсыркгьсйсфойхчоъчсйсыкгефснркчмывснрсыэнйьсинэнинэогырфзйжнсщнжбгойчсногсэычсбчкрйжгсщчжнщсзнсырнжфспжгегсччсюжчырчжйсрйьйщсюжчымнщсзнибйоввыъсччсогыркнчойтсносбфэырэнэгжсэнсэычщсыфцчырэчсыэнчщсэычсфыйжйэгтцччывсогзквхчойчсыбгырйвсгьсвсэчыъсырнжсйыбчкрйжгсымгегжгсногсйсзнжнхйэсщчжнмсыичжгжгсиэйхчоъчсмгмсюфирнсьнрчжгсэыргръмгмсхчсвсныргофыъснийосючесоччсысфхгынщсзнифщгжсносйсэевжсщчжнмсзнырнарчсымгегжсносыгивыъсмсырнжфсвсигэонсьнрчжсызкныйръсфсэгысниофсэчцъноспжвичжсчасзквщнсэсжгымнэячсьнрвсйсйызфпгооячспжгегсзнхгжфаыргсызкныйрчсэнрсымгегжсносйсогзйыгжсогбгжъоячсюфмэясмсэсщснс сосщсюсесжс сосйсрсюфмэяс рйсеогбйжйсмнпигсэясщочснрэчрйжйс рнпнсочсщнхчрсюяръсеогбйжнсжйс рнсбрнсоймнпигсйжйсрнпигсочсюяжнсоймгмнасэчкнвронырйсбрнюсногсщнпжгсзновръс рфсыжнхофтсукгефсонсносзныщнркчжсогсоччсысргмйщсэйинщсбрнсхйеоъсчпнсегэйыйрснрсрнпнсзнащчрсжйсногс рйсыжнэгногсэепжвофжгсогсочпнсычкъчеонсзнрнщснзчкжгсогьщфкчоояа'"
      ]
     },
     "execution_count": 9,
     "metadata": {},
     "output_type": "execute_result"
    }
   ],
   "source": [
    "ch_map = get_init_char_map(ALPHABET)\n",
    "encoded_str = encode_by_map(substr, ch_map)\n",
    "encoded_str"
   ]
  },
  {
   "cell_type": "code",
   "execution_count": 10,
   "metadata": {},
   "outputs": [
    {
     "data": {
      "text/plain": [
       "'льдо нек ыно всмел в иеямце дснс иняаж мевинва с ртсзетьу с лючу ее от поырвинвовал шнон иняаж с ртсзетье с ияагр оняедиу он ивосж мовомовтаинрпсло колыатсе ота вие ыеянсла келок по инолр блага ее члеинелс нсжск члеидок помыстууиь ее таиняоетсю от ырвинвовал во виек ирэеинве ивоек вие рислсваюэееиу тапяузетсе иыаинсу аж у веиь инол сиыеянсла идагала ота с полозсв келод имелала мвсзетье дад чрмно жонела винаньдад зе у оинатриь омст чег тее и рзаиок помркал от с вгул келод поинохне идагал от иамуиь д инолр у мавто жонел ипяоиснь р ваи омтр веэьот блумел ех пяуко в лаидовйе жону с сипрбаттйе блага позалрхина ипяоисне вон идагал от с тапсиал таыальтйе чрдвй д в к о ш т к ч г л ш т с н чрдвй шнс гтаыслс добма вй кте онвенслс шнобо те козен чйнь гтаысло лс шно ыно тсдобма слс нобма те чйло тсдадох веяоунтоинс ыноч ота кобла потунь шнр илозтрю щяагр то от поиконяел та тее и надск всмок ыно зсгть ебо гавсисн он нобо похкен лс ота шнс иловаота вгблутрла та тебо иеяьегто понок опеяла тажкряеттйх'"
      ]
     },
     "execution_count": 10,
     "metadata": {},
     "output_type": "execute_result"
    }
   ],
   "source": [
    "decoded_str = decode_by_freq(encoded_str, corpora_counter)\n",
    "decoded_str"
   ]
  },
  {
   "cell_type": "code",
   "execution_count": 11,
   "metadata": {},
   "outputs": [
    {
     "data": {
      "image/png": "[encoded data removed]",
      "text/plain": [
       "<Figure size 432x288 with 1 Axes>"
      ]
     },
     "metadata": {
      "needs_background": "light"
     },
     "output_type": "display_data"
    },
    {
     "data": {
      "text/plain": [
       "{100: 0.255,\n",
       " 1000: 0.4096,\n",
       " 10000: 0.6314,\n",
       " 20000: 0.680995,\n",
       " 30000: 0.6995066666666666,\n",
       " 40000: 0.72699,\n",
       " 50000: 0.753308,\n",
       " 100000: 0.8108129999999999}"
      ]
     },
     "execution_count": 11,
     "metadata": {},
     "output_type": "execute_result"
    }
   ],
   "source": [
    "# russian corpora\n",
    "test_on_corpora(text_ru, ALPHABET)"
   ]
  },
  {
   "cell_type": "code",
   "execution_count": 12,
   "metadata": {},
   "outputs": [
    {
     "data": {
      "image/png": "[encoded data removed]",
      "text/plain": [
       "<Figure size 432x288 with 1 Axes>"
      ]
     },
     "metadata": {
      "needs_background": "light"
     },
     "output_type": "display_data"
    },
    {
     "data": {
      "text/plain": [
       "{100: 0.265,\n",
       " 1000: 0.45339999999999997,\n",
       " 10000: 0.61285,\n",
       " 20000: 0.681905,\n",
       " 30000: 0.6931999999999999,\n",
       " 40000: 0.6797774999999999,\n",
       " 50000: 0.706882,\n",
       " 100000: 0.8145579999999999}"
      ]
     },
     "execution_count": 12,
     "metadata": {},
     "output_type": "execute_result"
    }
   ],
   "source": [
    "# english corpora\n",
    "test_on_corpora(text_en, ALPHABET_EN)"
   ]
  },
  {
   "cell_type": "markdown",
   "metadata": {},
   "source": [
    "В целом, уже неплохой результат"
   ]
  },
  {
   "cell_type": "markdown",
   "metadata": {},
   "source": [
    "### Частотный метод с биграммами"
   ]
  },
  {
   "cell_type": "code",
   "execution_count": 13,
   "metadata": {},
   "outputs": [
    {
     "data": {
      "text/plain": [
       "'abcdefghijklmnopqrstuvwxyz0123456789'"
      ]
     },
     "execution_count": 13,
     "metadata": {},
     "output_type": "execute_result"
    }
   ],
   "source": [
    "new_alphabet = string.ascii_lowercase + string.digits\n",
    "new_alphabet"
   ]
  },
  {
   "cell_type": "code",
   "execution_count": 14,
   "metadata": {},
   "outputs": [],
   "source": [
    "new_alphabet_en = ALPHABET + string.digits"
   ]
  },
  {
   "cell_type": "code",
   "execution_count": 15,
   "metadata": {},
   "outputs": [],
   "source": [
    "def get_char_map_2_alphabets(alphabet1, alphabet2):\n",
    "    orig_chars = list(alphabet1)\n",
    "    permuted_chars = np.random.permutation(list(alphabet2))\n",
    "    return dict(zip(orig_chars, permuted_chars))\n",
    "\n",
    "def extract_bigrams(text):\n",
    "    bigrams = []\n",
    "    for i in range(len(text) - 1):\n",
    "        bigrams.append(text[i : i+2])\n",
    "    return bigrams\n",
    "\n",
    "def decode_bigrams(text, corpora_bigram_counter):\n",
    "    \n",
    "    bigrams = extract_bigrams(text)\n",
    "    orig_freq = [i[0] for i in corpora_bigram_counter.most_common()]\n",
    "    enc_freq = [i[0] for i in Counter(bigrams).most_common()]    \n",
    "    for enc, orig in dict(zip(enc_freq, orig_freq)).items():\n",
    "        text = text.replace(enc[0], orig[0]).replace(enc[1], orig[1])\n",
    "    return text\n",
    "\n",
    "def test_on_corpora_bigrams(text, alphabet):\n",
    "    corpora_counter = Counter(extract_bigrams(text))\n",
    "    results = {}\n",
    "    for char_len in [100, 1000, 10_000, 20_000, 30_000, 40_000, 50_000, 100_000]:\n",
    "        acc = []\n",
    "        for _ in range(10):\n",
    "            substr = get_random_substr(text, char_len)\n",
    "            ch_map = get_char_map_2_alphabets(list(set(substr)), alphabet)\n",
    "            encoded_str = encode_by_map(substr, ch_map)\n",
    "            decoded_str = decode_bigrams(encoded_str, corpora_counter)\n",
    "            acc.append(evaluate_accuracy(substr, decoded_str))\n",
    "        results[char_len] = sum(acc) / len(acc)\n",
    "    plt.plot(list(results.keys()), list(results.values()))\n",
    "    plt.xlabel('Characters')\n",
    "    plt.ylabel('Accuracy')\n",
    "    plt.title('Basic frequency method (bi-grams)')\n",
    "    plt.show()\n",
    "    return results"
   ]
  },
  {
   "cell_type": "code",
   "execution_count": 16,
   "metadata": {},
   "outputs": [
    {
     "data": {
      "text/plain": [
       "'m14ah75zhw7ahkus5mhkh25rsc5h4u7uh27rvihs5k27kvhuh0du65d18huhmxq8h55hadhoaw0k27kakvmhg7a7h27rvihuh0du65d15huh2rvt0ha7r5428ha7h2kauihsakasakdv270oumahzamwvdu5hadvhk25hw5r7umvhz5mazhoah27am0hemvtvh55hqm5275muh7uiuzhqm524azhoaswud8821h55hdv27ra5duxhadhw0k27kakvmhkahk25zh20f527k5h2ka5zhk25h02umukvxf5528hdvor865du5h2wv27u8hvih8hk521h27amhu2w5r7umvh24vtvmvhadvhuhoama6ukhz5ma4h2s5mvmvhsku65d15h4v4hq0s7ahia75mvhk27v714v4h65h8ha27vd021hasudhq5thd55h2h06v2azhoas0zvmhadhuhkt8mhz5ma4hoa27a975h24vtvmhadh2vs821h4h27am0h8hsvkdahia75mh2ora2u71h0hkv2hasd0hk5f1adhem8s5mh59hor8zahkhmv24akp5hia78huhu2o0evddp5hemvtvhoa6vm0927vh2ora2u75hka7h24vtvmhadhuhdvou2vmhdvwvm1dp5hq04kph4hkhzhahghdhzhqhthmhghdhuh7hq04kphg7uhtdvwumuh4aesvhkphzd5ha7k57umuhg7aeahd5hza657hqp71htdvwumahmuhg7ahw7ahdu4aesvhumuh7aesvhd5hqpmahdu4v4a9hk5ra87da27uhw7aqhadvhzaemvhoad871hg70h2ma6d0xhyrvt0hdahadhoa2za7r5mhdvhd55h2h7v4uzhkusazhw7ah6utd1h5eahtvku2u7ha7h7aeahoa9z57hmuhadvhg7uh2makvadvhktem8d0mvhdvhd5eah25r15tdahoa7azhao5rmvhdviz0r5ddp9'"
      ]
     },
     "execution_count": 16,
     "metadata": {},
     "output_type": "execute_result"
    }
   ],
   "source": [
    "ch_map = get_char_map_2_alphabets(list(set(substr)), new_alphabet)\n",
    "encoded_str = encode_by_map(substr, ch_map)\n",
    "encoded_str"
   ]
  },
  {
   "cell_type": "code",
   "execution_count": 17,
   "metadata": {},
   "outputs": [
    {
     "data": {
      "text/plain": [
       "(2330471, 876)"
      ]
     },
     "execution_count": 17,
     "metadata": {},
     "output_type": "execute_result"
    }
   ],
   "source": [
    "text_bigrams = extract_bigrams(text_ru)\n",
    "corpora_counter = Counter(text_bigrams)\n",
    "len(text_bigrams), len(corpora_counter)"
   ]
  },
  {
   "cell_type": "code",
   "execution_count": 18,
   "metadata": {},
   "outputs": [
    {
     "data": {
      "text/plain": [
       "' йоеописоспеов  и ово ич хиоо п о пчазо ив пвао оро оиойко о  икоииоеооеесрв пвева о пепо пчазо оро оиойио о ча роепчио коепо ве зо еве евоа пре  еосе сао иоеоаов иосичп  аоси есоеео пе ро  а аоииои и пи  оп з сои и оесоее с окк йоииооа пчеио  оеоосрв пвева овеов исо рби пвио веисов иор    ва бии кооаечкоио ио са п коазокови йо пе о  сичп  ао оа а аоеоао оее ео воси еоо  и а ао в оиойиооаооир пеозепи аов папйоаоооиокое паор йое  ооии ооиио ороа есоее рса оеоо ов к оси еооее пеэпио оа а оеоо а к йооо пе роко авоеозепи о ече  пйорова ое оровибйеоо  к и оиэоечксеово а оевьиозепко о  ер аооьио  а аоееоа рэ пао ече  пиовепо оа а оеоо ооае  а ооаса йоьиоировьооовосоео ооосоио о о ооо опоировьо п о оас   оое  аовьосоиоепвип   о пе еооиосеоипоиьпйо оас  ео  о пеоспеоо ое  ао   опе  аооиоиь еоо оаоеэовичекпое п оспеиоеоаосе  аоееокпйо про  еоор осча рооеоеооее сепчи ооаооиио опао сов  есоспеоо  ойои ео ав   поепопе еоееэсипо  оеоао п о  еваеоаов   кор аооаоои ео ичйи оеоеепесоееич аооазсрчиооьэ'"
      ]
     },
     "execution_count": 18,
     "metadata": {},
     "output_type": "execute_result"
    }
   ],
   "source": [
    "ch_map = get_char_map_2_alphabets(list(set(substr)), new_alphabet)\n",
    "encoded_str = encode_by_map(substr, ch_map)\n",
    "decoded_str = decode_bigrams(encoded_str, corpora_counter)\n",
    "decoded_str"
   ]
  },
  {
   "cell_type": "code",
   "execution_count": 19,
   "metadata": {},
   "outputs": [
    {
     "data": {
      "image/png": "[encoded data removed]",
      "text/plain": [
       "<Figure size 432x288 with 1 Axes>"
      ]
     },
     "metadata": {
      "needs_background": "light"
     },
     "output_type": "display_data"
    },
    {
     "data": {
      "text/plain": [
       "{100: 0.11200000000000002,\n",
       " 1000: 0.2169,\n",
       " 10000: 0.28073000000000004,\n",
       " 20000: 0.33414,\n",
       " 30000: 0.35550666666666664,\n",
       " 40000: 0.3813325,\n",
       " 50000: 0.38475,\n",
       " 100000: 0.379029}"
      ]
     },
     "execution_count": 19,
     "metadata": {},
     "output_type": "execute_result"
    }
   ],
   "source": [
    "test_on_corpora_bigrams(text_ru, new_alphabet)"
   ]
  },
  {
   "cell_type": "code",
   "execution_count": 20,
   "metadata": {},
   "outputs": [
    {
     "data": {
      "image/png": "[encoded data removed]",
      "text/plain": [
       "<Figure size 432x288 with 1 Axes>"
      ]
     },
     "metadata": {
      "needs_background": "light"
     },
     "output_type": "display_data"
    },
    {
     "data": {
      "text/plain": [
       "{100: 0.25200000000000006,\n",
       " 1000: 0.2339,\n",
       " 10000: 0.32885,\n",
       " 20000: 0.388665,\n",
       " 30000: 0.42562333333333324,\n",
       " 40000: 0.42937250000000005,\n",
       " 50000: 0.4503260000000001,\n",
       " 100000: 0.5630120000000001}"
      ]
     },
     "execution_count": 20,
     "metadata": {},
     "output_type": "execute_result"
    }
   ],
   "source": [
    "test_on_corpora_bigrams(text_en, new_alphabet_en)"
   ]
  },
  {
   "cell_type": "markdown",
   "metadata": {},
   "source": [
    "Хуже чем с униграммами, скорее всего потому что нужны гораздо более крупные корпуса текстов для лучшей статистики"
   ]
  },
  {
   "cell_type": "markdown",
   "metadata": {},
   "source": [
    "### MCMC sampling"
   ]
  },
  {
   "cell_type": "markdown",
   "metadata": {},
   "source": [
    "Используем алгоритм Метрополиса-Гастингса. Возьмем случайную расшифровку и каждую итерацию будем случайно менять в ней два символа, затем замерять правдоподобие. Запустим несколько эпох, чтобы не застревать в локальных эстремумах."
   ]
  },
  {
   "cell_type": "code",
   "execution_count": 21,
   "metadata": {},
   "outputs": [
    {
     "data": {
      "text/plain": [
       "'хтбдюхжъзцлбжрбоцьухдзпьцяжьл чахуаьлшцтцжхмрфуфжчцфдцяфъеубжъь цсдбдьбцлуьнглтфрфцъфуф шдфцфъдфрфцчбмъхцхцлуьнглтьоцчгбцфпбуьъдфцфяяфмьвьнцлтхмх цфдцулбсцтжфсбц буьдхцяфднедзбцл фухцпефцтфленцьцезцуфаб цтхгбелнцуфцутчлцяжьюхуь цфдцфюжхйхнлшцтц буьдчцьцумн цбрфцяфъцжчтчц буьдцьцжхъцюз цюзцуфоеьцуфцутчлцдфцдбцсфрцяфднешцуцпбсцъб фцьцфефоънцдблтф штфцахрфуцфецрфуфжьуаьицузжхмь цлебяхдчцхжтхъшьпчцлуфбцдбъфчсбдьбцмхпбсцюз фцяжфльешцрчюбждлтфрфцяжбъуфъьеб нцлтхмх цлебяхдцхжтхъшьпцьцтжхетфцьцнлдфцжхлеф тфух ц буьдчцуцпбсцъб фбл ьцюзцтхтцуцяжфа збцузюфжзцулбцчбмъзцяжфль ьцрчюбждлтфрфцяжбъуфъьеб нцефцбрфцузюжх ьцюзцулбсьцюб зсьцыефрфцдбцдчгдфцюз фцебябжшцгбцуфлбсшцчбмъфуцлфр хлдзцяжфльешцбл ьцгбцъухцфетхгчелнцяжфльешцефцлдбетфуцсфгбецфетхмхешлнцфецюх  феьжфутьцьцефръхцлехжхнцяхжеьнцсфгбецузюжхешцъжчрфрфцьмцлуфьицехтцтхтцжхлпбецублшцючъбецяфебжндцдфцбл ьцеф штфцфъьдцчбмъцлуьнглтфрфцдбцючъбецяжфльешцлдбетфуцючъбецюх  феьжфухешлнцбрфцъхгбцузюбжчецьцдхжфпдфцябжб фгхецбсчцехтцпефцяжфеьудхнцяхжеьнцл'"
      ]
     },
     "execution_count": 21,
     "metadata": {},
     "output_type": "execute_result"
    }
   ],
   "source": [
    "substr = get_random_substr(text_ru, 1000)\n",
    "ch_map = get_init_char_map(ALPHABET)\n",
    "encoded_str = encode_by_map(substr, ch_map)\n",
    "encoded_str"
   ]
  },
  {
   "cell_type": "code",
   "execution_count": 22,
   "metadata": {},
   "outputs": [],
   "source": [
    "def get_bigram_freq(text):\n",
    "    cnter = Counter(extract_bigrams(text))\n",
    "    all_bigram_sum = sum(cnter.values())\n",
    "    return {k: (v / all_bigram_sum) for k, v in cnter.items()} # smoothed\n",
    "\n",
    "def get_log_likelihood(text, ch_map, orig_freq):\n",
    "    decoded = encode_by_map(text, ch_map)\n",
    "    decoded_freq = Counter(extract_bigrams(decoded))\n",
    "    all_bigram_sum = sum(decoded_freq.values())\n",
    "    score = 0\n",
    "    for key, val in decoded_freq.items():\n",
    "        if key in orig_freq:\n",
    "            score += val * np.log(orig_freq[key])\n",
    "        else:\n",
    "            score += val * np.log(1 / all_bigram_sum) # smoothed\n",
    "    return score\n",
    "\n",
    "def permute_char_map(char_map):\n",
    "    d = copy(char_map)\n",
    "    key1, key2 = np.random.choice(list(d.keys()), 2)\n",
    "    d[key1], d[key2] = d[key2], d[key1]\n",
    "    return d"
   ]
  },
  {
   "cell_type": "code",
   "execution_count": 23,
   "metadata": {},
   "outputs": [],
   "source": [
    "def decode_by_mcmc_sampling(encoded_str, alphabet, orig_freq, \n",
    "                            text_chars=None, n_iters=10_000, n_epochs=5):\n",
    "    best_map = None\n",
    "    best_score = -np.inf\n",
    "    if text_chars is None:\n",
    "        text_chars = set(encoded_str)\n",
    "    for epoch in tqdm(range(n_epochs), total=n_epochs):\n",
    "        ch_map = get_char_map_2_alphabets(text_chars, alphabet)\n",
    "        score = get_log_likelihood(encoded_str, ch_map, orig_freq)\n",
    "\n",
    "        for i in range(10_000):\n",
    "            new_ch_map = permute_char_map(ch_map)\n",
    "            new_score = get_log_likelihood(encoded_str, new_ch_map, orig_freq)\n",
    "            if np.exp(new_score - score) > np.random.rand():\n",
    "                ch_map = new_ch_map\n",
    "                score = new_score\n",
    "                \n",
    "        print(epoch, round(score,2), encode_by_map(encoded_str, ch_map)[:100])\n",
    "        if score > best_score:\n",
    "            best_score = score\n",
    "            best_map = ch_map\n",
    "    print(f'Best score: {best_score}')\n",
    "    return best_map"
   ]
  },
  {
   "cell_type": "code",
   "execution_count": 24,
   "metadata": {},
   "outputs": [
    {
     "name": "stderr",
     "output_type": "stream",
     "text": [
      " 10%|█         | 1/10 [00:08<01:19,  8.83s/it]"
     ]
    },
    {
     "name": "stdout",
     "output_type": "stream",
     "text": [
      "0 -5517.84 акенбарды сергею иванычи прислушавшись к разговору он подтвердил мнение свияжского довольно одного у\n"
     ]
    },
    {
     "name": "stderr",
     "output_type": "stream",
     "text": [
      " 20%|██        | 2/10 [00:17<01:10,  8.77s/it]"
     ]
    },
    {
     "name": "stdout",
     "output_type": "stream",
     "text": [
      "1 -5599.09 акенбарды сергею иваными прислуфавфись к рашговору он подтвердил хнение свиязского довольно одного у\n"
     ]
    },
    {
     "name": "stderr",
     "output_type": "stream",
     "text": [
      " 40%|████      | 4/10 [00:34<00:52,  8.72s/it]"
     ]
    },
    {
     "name": "stdout",
     "output_type": "stream",
     "text": [
      "2 -5850.56 укенмурды серзею ивунычи присляфувфись к рушзаваря ан падтвердил гнение свийжсказа давальна адназа я\n",
      "3 -5922.55 акержапдш сепгею иваршчи бпислуфавфись к пазговопу ор боднвепдил хрерие свиймского довольро одрого у\n"
     ]
    },
    {
     "name": "stderr",
     "output_type": "stream",
     "text": [
      " 50%|█████     | 5/10 [00:43<00:43,  8.73s/it]"
     ]
    },
    {
     "name": "stdout",
     "output_type": "stream",
     "text": [
      "4 -6286.15 ртнезракм снагню воремшв бавсуяхрохвсы т аръглолая ле блкионакву ченевн совйжстлгл клолуыел лкелгл я\n"
     ]
    },
    {
     "name": "stderr",
     "output_type": "stream",
     "text": [
      "<ipython-input-23-aad4c4302265>:13: RuntimeWarning: overflow encountered in exp\n",
      "  if np.exp(new_score - score) > np.random.rand():\n",
      " 70%|███████   | 7/10 [01:00<00:25,  8.62s/it]"
     ]
    },
    {
     "name": "stdout",
     "output_type": "stream",
     "text": [
      "5 -5923.48 окенгоршя серзею илонячи присмуьольисы к роъзалару ан пашвлершим хнение слийжсказа шаламына ашназа у\n",
      "6 -6255.59 рктяпродз стоътю лирязэл волсажгриглсм к орыънинож ня вндеитодла чятялт сильщскнън днинамян ндянън ж\n"
     ]
    },
    {
     "name": "stderr",
     "output_type": "stream",
     "text": [
      " 80%|████████  | 8/10 [01:09<00:17,  8.66s/it]"
     ]
    },
    {
     "name": "stdout",
     "output_type": "stream",
     "text": [
      "7 -6621.98 ъьевжъычпасеымегаитъвпбиаяыисршэътэисхаьаыъщм т ыша вая члтеычиразвевиеастикусь м ач т рхв а чв м аш\n"
     ]
    },
    {
     "name": "stderr",
     "output_type": "stream",
     "text": [
      "100%|██████████| 10/10 [01:26<00:00,  8.66s/it]"
     ]
    },
    {
     "name": "stdout",
     "output_type": "stream",
     "text": [
      "8 -5868.46 акенэатры петгей иваныби чтипмушавшипь к тазговоту он чорлветрим хнение пвияжпкого ровомьно орного у\n",
      "9 -6494.89 еыокцердйнсорчожнаиекйпанурасмъбеибасьнынрешч и рън кну дтиордамнзкокаонсиаягсы ч нд и мьк н дк ч нъ\n",
      "Best score: -5517.837498556633\n"
     ]
    },
    {
     "name": "stderr",
     "output_type": "stream",
     "text": [
      "\n"
     ]
    }
   ],
   "source": [
    "bigram_corpora_freq = get_bigram_freq(text_ru)\n",
    "best_map = decode_by_mcmc_sampling(encoded_str, ALPHABET, bigram_corpora_freq, n_epochs=10)"
   ]
  },
  {
   "cell_type": "code",
   "execution_count": 25,
   "metadata": {},
   "outputs": [
    {
     "data": {
      "text/plain": [
       "'акенбарды сергей иванычи прислушавшись к разговору он подтвердил мнение свияжского довольно одного уезда а свияжский уже очевидно оппозиция сказал он всем кроме левина понятные слова что костя и ты вошел кажется во вкус прибавил он обращаясь к левину и взял его под руку левин и рад был бы войти во вкус но не мог понять в чем дело и отойдя несколько шагов от говоривших выразил степану аркадьичу свое недоумение зачем было просить губернского предводителя сказал степан аркадьич и кратко и ясно растолковал левину в чем делоесли бы как в прошлые выборы все уезды просили губернского предводителя то его выбрали бы всеми белыми этого не нужно было теперь же восемь уездов согласны просить если же два откажутся просить то снетков может отказаться от баллотировки и тогда старая партия может выбрать другого из своих так как расчет весь будет потерян но если только один уезд свияжского не будет просить снетков будет баллотироваться его даже выберут и нарочно переложат ему так что противная партия с'"
      ]
     },
     "execution_count": 25,
     "metadata": {},
     "output_type": "execute_result"
    }
   ],
   "source": [
    "substr"
   ]
  },
  {
   "cell_type": "code",
   "execution_count": 26,
   "metadata": {},
   "outputs": [
    {
     "data": {
      "text/plain": [
       "'акенбарды сергею иванычи прислушавшись к разговору он подтвердил мнение свияжского довольно одного уезда а свияжскию уже очевидно оппозиъия сказал он всем кроме левина понятные слова что костя и ты вошел кажется во вкус прибавил он обрафаясь к левину и взял его под руку левин и рад был бы воюти во вкус но не мог понять в чем дело и отоюдя несколько шагов от говоривших выразил степану аркадьичу свое недоумение зачем было просить губернского предводителя сказал степан аркадьич и кратко и ясно растолковал левину в чем делоесли бы как в прошлые выборы все уезды просили губернского предводителя то его выбрали бы всеми белыми щтого не нужно было теперь же восемь уездов согласны просить если же два откажутся просить то снетков может отказаться от баллотировки и тогда старая партия может выбрать другого из своих так как расчет весь будет потерян но если только один уезд свияжского не будет просить снетков будет баллотироваться его даже выберут и нарочно переложат ему так что противная партия с'"
      ]
     },
     "execution_count": 26,
     "metadata": {},
     "output_type": "execute_result"
    }
   ],
   "source": [
    "encode_by_map(encoded_str, best_map)"
   ]
  },
  {
   "cell_type": "code",
   "execution_count": 27,
   "metadata": {},
   "outputs": [
    {
     "data": {
      "text/plain": [
       "0.993"
      ]
     },
     "execution_count": 27,
     "metadata": {},
     "output_type": "execute_result"
    }
   ],
   "source": [
    "evaluate_accuracy(encode_by_map(encoded_str, best_map), substr) "
   ]
  },
  {
   "cell_type": "markdown",
   "metadata": {},
   "source": [
    "Получили практически идеальную точность"
   ]
  },
  {
   "cell_type": "markdown",
   "metadata": {},
   "source": [
    "### Расшифровка последнего сообщения"
   ]
  },
  {
   "cell_type": "code",
   "execution_count": 28,
   "metadata": {},
   "outputs": [],
   "source": [
    "to_decode = \"←⇠⇒↟↹↷⇊↹↷↟↤↟↨←↹↝⇛⇯↳⇴⇒⇈↝⇊↾↹↟⇒↟↹⇷⇛⇞↨↟↹↝⇛⇯↳⇴⇒⇈↝⇊↾↹↨←⇌⇠↨↹⇙↹⇸↨⇛↙⇛↹⇠⇛⇛↲⇆←↝↟↞↹⇌⇛↨⇛⇯⇊↾↹⇒←↙⇌⇛↹⇷⇯⇛⇞↟↨⇴↨⇈↹⇠⇌⇛⇯←←↹↷⇠←↙⇛↹↷⇊↹↷⇠←↹⇠↤←⇒⇴⇒↟↹⇷⇯⇴↷↟⇒⇈↝⇛↹↟↹⇷⇛⇒⇙⇞↟↨←↹↳⇴⇌⇠↟↳⇴⇒⇈↝⇊↾↹↲⇴⇒⇒↹⇰⇴↹⇷⇛⇠⇒←↤↝←←↹⇞←↨↷←⇯↨⇛←↹⇰⇴↤⇴↝↟←↹⇌⇙⇯⇠⇴↹↘⇛↨↞↹⇌⇛↝←⇞↝⇛↹↞↹↝↟⇞←↙⇛↹↝←↹⇛↲←⇆⇴⇏\""
   ]
  },
  {
   "cell_type": "markdown",
   "metadata": {},
   "source": [
    "Воспользуемся небольшой хитростью: будем запускать наш MCMC-алгоритм с warm start'ом, передав символы алфавита уже отсортированными по частоте"
   ]
  },
  {
   "cell_type": "code",
   "execution_count": 29,
   "metadata": {},
   "outputs": [],
   "source": [
    "def get_char_map_2_alphabets(alphabet1, alphabet2):\n",
    "    orig_chars = list(alphabet1)\n",
    "    permuted_chars = list(alphabet2)\n",
    "    return dict(zip(orig_chars, permuted_chars))"
   ]
  },
  {
   "cell_type": "code",
   "execution_count": 30,
   "metadata": {},
   "outputs": [],
   "source": [
    "alphabet_corpora = [c[0] for c in Counter(text_ru).most_common()]\n",
    "decode_corpora = [c[0] for c in Counter(to_decode).most_common()]"
   ]
  },
  {
   "cell_type": "code",
   "execution_count": 31,
   "metadata": {},
   "outputs": [
    {
     "name": "stderr",
     "output_type": "stream",
     "text": [
      "  2%|▏         | 1/50 [00:03<02:49,  3.46s/it]"
     ]
    },
    {
     "name": "stdout",
     "output_type": "stream",
     "text": [
      "0 -1232.74 если вй вимите ножзальнйы или подти ножзальнйы текст у чтого сооршения котожйы легко пжодитать скоже\n"
     ]
    },
    {
     "name": "stderr",
     "output_type": "stream",
     "text": [
      "  4%|▍         | 2/50 [00:06<02:44,  3.42s/it]"
     ]
    },
    {
     "name": "stdout",
     "output_type": "stream",
     "text": [
      "1 -1259.23 осли вй вимито неркальнйы или пегти неркальнйы тодст у чтеше сеежхония детерйы лошде прегитать сдеро\n"
     ]
    },
    {
     "name": "stderr",
     "output_type": "stream",
     "text": [
      "  6%|▌         | 3/50 [00:10<02:48,  3.58s/it]"
     ]
    },
    {
     "name": "stdout",
     "output_type": "stream",
     "text": [
      "2 -1241.81 есла вй вамате норуыльнйх ала подта норуыльнйх текст и чтого соожшеная которйх легко продатыть скоре\n"
     ]
    },
    {
     "name": "stderr",
     "output_type": "stream",
     "text": [
      " 10%|█         | 5/50 [00:17<02:34,  3.43s/it]"
     ]
    },
    {
     "name": "stdout",
     "output_type": "stream",
     "text": [
      "3 -1251.54 еила вй вамате норжыльнйх ала поста норжыльнйх текит у чтого иоошденая которйх легко просатыть икоре\n",
      "4 -1266.51 ивло пй покоси недральнйх оло чемсо недральнйх ситвс у гсеые веежшиноя теседйх лиыте чдемосась втеди\n"
     ]
    },
    {
     "name": "stderr",
     "output_type": "stream",
     "text": [
      " 14%|█▍        | 7/50 [00:23<02:24,  3.37s/it]"
     ]
    },
    {
     "name": "stdout",
     "output_type": "stream",
     "text": [
      "5 -1265.99 ивно пй поколи тедранятйь оно чегло тедранятйь лисвл у блеые веешзитох селедйь ниысе чдеголаля вседи\n",
      "6 -1234.29 если вй вимите нодральнйы или пожти нодральнйы текст у штого соочбения котодйы легко пдожитать скоде\n"
     ]
    },
    {
     "name": "stderr",
     "output_type": "stream",
     "text": [
      " 18%|█▊        | 9/50 [00:30<02:17,  3.34s/it]"
     ]
    },
    {
     "name": "stdout",
     "output_type": "stream",
     "text": [
      "7 -1266.42 еста вй вамале ноыюятинйь ата бодла ноыюятинйь лексл у глоро соожшенах колоыйь терко быодаляли скоые\n",
      "8 -1273.71 овни сй сикило теыманятйь ини чедли теыманятйь лопвл у шлебе веегротих пелеыйь нобпе чыедилаля впеыо\n"
     ]
    },
    {
     "name": "stderr",
     "output_type": "stream",
     "text": [
      " 22%|██▏       | 11/50 [00:37<02:07,  3.27s/it]"
     ]
    },
    {
     "name": "stdout",
     "output_type": "stream",
     "text": [
      "9 -1245.64 если вй вимите нопзальнйы или борти нопзальнйы текст у жтого соошдения котопйы легко бпоритать скопе\n",
      "10 -1247.15 еила вй вамате норкыльнйх ала поста норкыльнйх тедит у чтого иоожшеная доторйх легдо просатыть идоре\n"
     ]
    },
    {
     "name": "stderr",
     "output_type": "stream",
     "text": [
      " 24%|██▍       | 12/50 [00:40<02:03,  3.26s/it]"
     ]
    },
    {
     "name": "stdout",
     "output_type": "stream",
     "text": [
      "11 -1252.26 етли сй сириве ножхыланйь или подви ножхыланйь вектв у звого тообмения ковожйь легко пжодивыва ткоже\n"
     ]
    },
    {
     "name": "stderr",
     "output_type": "stream",
     "text": [
      " 26%|██▌       | 13/50 [00:43<02:02,  3.30s/it]"
     ]
    },
    {
     "name": "stdout",
     "output_type": "stream",
     "text": [
      "12 -1235.31 если вй вимите ножзальнйы или порти ножзальнйы текст у чтого соошдения котожйы легко пжоритать скоже\n"
     ]
    },
    {
     "name": "stderr",
     "output_type": "stream",
     "text": [
      " 28%|██▊       | 14/50 [00:47<02:01,  3.38s/it]"
     ]
    },
    {
     "name": "stdout",
     "output_type": "stream",
     "text": [
      "13 -1238.97 если вы вимите нордалйныь или почти нордалйныь текст у жтого соошбения которыь легко прочитатй скоре\n"
     ]
    },
    {
     "name": "stderr",
     "output_type": "stream",
     "text": [
      " 30%|███       | 15/50 [00:51<02:04,  3.57s/it]"
     ]
    },
    {
     "name": "stdout",
     "output_type": "stream",
     "text": [
      "14 -1271.35 езни жй жидиле товканытйь ини посли товканытйь лехзл у блоро зоочшетия холовйь нерхо пвосилалы зхове\n"
     ]
    },
    {
     "name": "stderr",
     "output_type": "stream",
     "text": [
      " 32%|███▏      | 16/50 [00:55<02:05,  3.70s/it]"
     ]
    },
    {
     "name": "stdout",
     "output_type": "stream",
     "text": [
      "15 -1245.1 если вй вимите ножхыланйь или подти ножхыланйь текст у зторо соочшения котожйь лерко пжодитыта скоже\n"
     ]
    },
    {
     "name": "stderr",
     "output_type": "stream",
     "text": [
      " 34%|███▍      | 17/50 [00:58<02:02,  3.70s/it]"
     ]
    },
    {
     "name": "stdout",
     "output_type": "stream",
     "text": [
      "16 -1233.63 если вй вимите ножзальнйы или порти ножзальнйы текст у чтого соодшения котожйы легко пжоритать скоже\n"
     ]
    },
    {
     "name": "stderr",
     "output_type": "stream",
     "text": [
      " 38%|███▊      | 19/50 [01:05<01:51,  3.59s/it]"
     ]
    },
    {
     "name": "stdout",
     "output_type": "stream",
     "text": [
      "17 -1279.42 есна вй вашате дорюьнудйх ана почта дорюьнудйх текст и жтоло соомыедая которйх нелко прочатьту скоре\n",
      "18 -1269.44 ерна кы каьале товмйнитыю ана посла товмйнитыю ледрл у злого роожшетая доловыю негдо пвосалйли рдове\n"
     ]
    },
    {
     "name": "stderr",
     "output_type": "stream",
     "text": [
      " 40%|████      | 20/50 [01:09<01:46,  3.54s/it]"
     ]
    },
    {
     "name": "stdout",
     "output_type": "stream",
     "text": [
      "19 -1263.83 исто кя комоли недратйняь ото пегло недратйняь ливсл у шлеые сеечжинох веледяь тиыве пдеголалй сведи\n",
      "20"
     ]
    },
    {
     "name": "stderr",
     "output_type": "stream",
     "text": [
      " 44%|████▍     | 22/50 [01:16<01:36,  3.45s/it]"
     ]
    },
    {
     "name": "stdout",
     "output_type": "stream",
     "text": [
      " -1272.91 едси чй чикине волхаствйь иси помни волхаствйь нердн у юного доожшевия ронолйь сегро пломинант дроле\n",
      "21 -1294.79 ижто пй позони велхатувйь ото серно велхатувйь нишжн г кнеые жеечдивоя шенелйь тиыше слеронану жшели\n"
     ]
    },
    {
     "name": "stderr",
     "output_type": "stream",
     "text": [
      " 48%|████▊     | 24/50 [01:22<01:28,  3.39s/it]"
     ]
    },
    {
     "name": "stdout",
     "output_type": "stream",
     "text": [
      "22 -1275.02 овли кй кисино тепзалытйь или бемни тепзалытйь нодвн у гнеше веерхотия денепйь лошде бпеминаны вдепо\n",
      "23 -1270.01 осни кй кичило тедранятйь ини пемли тедранятйь ловсл у блеые сеешготих веледйь ноыве пдемилаля сведо\n"
     ]
    },
    {
     "name": "stderr",
     "output_type": "stream",
     "text": [
      " 52%|█████▏    | 26/50 [01:29<01:20,  3.35s/it]"
     ]
    },
    {
     "name": "stdout",
     "output_type": "stream",
     "text": [
      "24 -1240.5 если вы вимите ножзалйныю или подти ножзалйныю текст у чтого сооршения котожыю легко пжодитатй скоже\n",
      "25 -1237.02 если вй вимите нордальнйы или пожти нордальнйы текст у чтого соошзения которйы легко прожитать скоре\n"
     ]
    },
    {
     "name": "stderr",
     "output_type": "stream",
     "text": [
      " 56%|█████▌    | 28/50 [01:35<01:13,  3.32s/it]"
     ]
    },
    {
     "name": "stdout",
     "output_type": "stream",
     "text": [
      "26 -1237.38 если вй вимите нордальнйы или почти нордальнйы текст у бтого соошжения которйы легко прочитать скоре\n",
      "27 -1269.45 итло сй сокови нежзалянйь оло педво нежзалянйь вичтв у хвеые теершином чевежйь лиыче пжедовавя тчежи\n"
     ]
    },
    {
     "name": "stderr",
     "output_type": "stream",
     "text": [
      " 60%|██████    | 30/50 [01:42<01:06,  3.32s/it]"
     ]
    },
    {
     "name": "stdout",
     "output_type": "stream",
     "text": [
      "28 -1232.0 если вй вимите нодральнйы или пожти нодральнйы текст у чтого соошбения котодйы легко пдожитать скоде\n",
      "29 -1286.99 етна чх чарале жиымонйжхю ана кидла жиымонйжхю лестл у пливи тиишзежая силиыхю невси кыидалолй тсиые\n"
     ]
    },
    {
     "name": "stderr",
     "output_type": "stream",
     "text": [
      " 64%|██████▍   | 32/50 [01:49<00:59,  3.32s/it]"
     ]
    },
    {
     "name": "stdout",
     "output_type": "stream",
     "text": [
      "30 -1238.97 есла вй вамате норхылинйь ала подта норхылинйь текст у чтого соожшеная которйь легко продатыти скоре\n",
      "31 -1251.15 етни чй чидиле ворканывйь ини помли ворканывйь лестл у блого тоожшевия солорйь негсо промилалы тсоре\n"
     ]
    },
    {
     "name": "stderr",
     "output_type": "stream",
     "text": [
      " 68%|██████▊   | 34/50 [01:55<00:53,  3.33s/it]"
     ]
    },
    {
     "name": "stdout",
     "output_type": "stream",
     "text": [
      "32 -1235.16 если вй вимите нодральнйх или почти нодральнйх текст у ютого соожшения котодйх легко пдочитать скоде\n",
      "33 -1252.81 етла чй чакаве норяылинйь ала подва норяылинйь веств у звого тоожшенам соворйь легсо продавыви тсоре\n"
     ]
    },
    {
     "name": "stderr",
     "output_type": "stream",
     "text": [
      " 70%|███████   | 35/50 [01:59<00:51,  3.45s/it]"
     ]
    },
    {
     "name": "stdout",
     "output_type": "stream",
     "text": [
      "34 -1233.52 если вй вимите ножзальнйы или порти ножзальнйы текст у чтого соошдения котожйы легко пжоритать скоже\n"
     ]
    },
    {
     "name": "stderr",
     "output_type": "stream",
     "text": [
      " 74%|███████▍  | 37/50 [02:06<00:43,  3.31s/it]"
     ]
    },
    {
     "name": "stdout",
     "output_type": "stream",
     "text": [
      "35 -1269.1 ости кы кимило нерхатйныь ити педли нерхатйныь ловсл у глеже сеешбония велерыь тожве предилалй сверо\n",
      "36 -1239.83 есла вй вамате норбылинйь ала подта норбылинйь текст у чтого соожшеная которйь легко продатыти скоре\n"
     ]
    },
    {
     "name": "stderr",
     "output_type": "stream",
     "text": [
      " 78%|███████▊  | 39/50 [02:12<00:36,  3.31s/it]"
     ]
    },
    {
     "name": "stdout",
     "output_type": "stream",
     "text": [
      "37 -1285.7 ивла тй тарани дешголудйь ала жезна дешголудйь нисвн х бнеые веемкидая сенешйь лиысе жшезанону всеши\n",
      "38 -1242.23 есла вй вамате норжылинйь ала подта норжылинйь текст у чтого соошзеная которйь легко продатыти скоре\n"
     ]
    },
    {
     "name": "stderr",
     "output_type": "stream",
     "text": [
      " 82%|████████▏ | 41/50 [02:19<00:29,  3.31s/it]"
     ]
    },
    {
     "name": "stdout",
     "output_type": "stream",
     "text": [
      "39 -1244.19 етни сй симиве ложзанылйь ини подви ложзанылйь вертв у бвого тоошчелия ровожйь негро пжодивавы троже\n",
      "40 -1245.5 етни сй симиве ложзанылйь ини подви ложзанылйь вертв у хвого тоочбелия ровожйь негро пжодивавы троже\n"
     ]
    },
    {
     "name": "stderr",
     "output_type": "stream",
     "text": [
      " 86%|████████▌ | 43/50 [02:25<00:22,  3.22s/it]"
     ]
    },
    {
     "name": "stdout",
     "output_type": "stream",
     "text": [
      "41 -1249.42 есла ви вамате норбыльний ала подта норбыльний текст у чтого соожшеная которий легко продатыть скоре\n",
      "42 -1258.08 етни сй симиве лорзанылйь ини подви лорзанылйь вектв у хвого тоошбелия коворйь негко продивавы ткоре\n",
      "43"
     ]
    },
    {
     "name": "stderr",
     "output_type": "stream",
     "text": [
      " 90%|█████████ | 45/50 [02:31<00:15,  3.17s/it]"
     ]
    },
    {
     "name": "stdout",
     "output_type": "stream",
     "text": [
      " -1265.39 ерно пй поготе ласминылйь оно вадто ласминылйь текрт у чтаза раажшелоя катасйь незка всадотиты ркасе\n",
      "44 -1259.67 есла вй вамате норюяльнйх ала подта норюяльнйх текст у чтого соожшенаи которйх легко продатять скоре\n"
     ]
    },
    {
     "name": "stderr",
     "output_type": "stream",
     "text": [
      " 96%|█████████▌| 48/50 [02:41<00:06,  3.15s/it]"
     ]
    },
    {
     "name": "stdout",
     "output_type": "stream",
     "text": [
      "45 -1232.26 если вй вимите нордальнйы или пожти нордальнйы текст у чтого соошбения которйы легко прожитать скоре\n",
      "46 -1252.4 етни сй сикиве лопзанылйь ини бодви лопзанылйь вертв у жвого тоошчелия ровопйь негро бподивавы тропе\n",
      "47 -1239.31 если вй вимите ножзальнйы или подти ножзальнйы текст у штого соочхения котожйы легко пжодитать скоже\n"
     ]
    },
    {
     "name": "stderr",
     "output_type": "stream",
     "text": [
      " 98%|█████████▊| 49/50 [02:44<00:03,  3.13s/it]"
     ]
    },
    {
     "name": "stdout",
     "output_type": "stream",
     "text": [
      "48 -1238.99 если вй вимите норзальнйы или подти норзальнйы текст у жтого соочбения которйы легко продитать скоре\n"
     ]
    },
    {
     "name": "stderr",
     "output_type": "stream",
     "text": [
      "100%|██████████| 50/50 [02:47<00:00,  3.34s/it]"
     ]
    },
    {
     "name": "stdout",
     "output_type": "stream",
     "text": [
      "49 -1234.51 если вй вимите норхальнйы или подти норхальнйы текст у чтого соожшения которйы легко продитать скоре\n",
      "Best score: -1232.0000247362025\n"
     ]
    },
    {
     "name": "stderr",
     "output_type": "stream",
     "text": [
      "\n"
     ]
    }
   ],
   "source": [
    "best_map = decode_by_mcmc_sampling(to_decode, alphabet_corpora, bigram_corpora_freq,\n",
    "                                   decode_corpora, n_iters=10_000, n_epochs=50)"
   ]
  },
  {
   "cell_type": "code",
   "execution_count": 32,
   "metadata": {},
   "outputs": [
    {
     "data": {
      "text/plain": [
       "'если вй вимите нодральнйы или пожти нодральнйы текст у чтого соошбения котодйы легко пдожитать скодее всего вй все смелали пдавильно и полужите раксиральнйы шалл за послемнее жетведтое замание кудса хотя конежно я нижего не ошебаю'"
      ]
     },
     "execution_count": 32,
     "metadata": {},
     "output_type": "execute_result"
    }
   ],
   "source": [
    "encode_by_map(to_decode, best_map)"
   ]
  },
  {
   "cell_type": "markdown",
   "metadata": {},
   "source": [
    "В целом, считывается хоть и не безупречно, но довольно легко"
   ]
  },
  {
   "cell_type": "markdown",
   "metadata": {},
   "source": [
    "### Триграммы"
   ]
  },
  {
   "cell_type": "markdown",
   "metadata": {},
   "source": [
    "Подправим наши функции, чтобы они могли работать с триграммами:"
   ]
  },
  {
   "cell_type": "code",
   "execution_count": 34,
   "metadata": {},
   "outputs": [],
   "source": [
    "def extract_trigrams(text):\n",
    "    trigrams = []\n",
    "    for i in range(len(text) - 2):\n",
    "        trigrams.append(text[i : i+3])\n",
    "    return trigrams\n",
    "\n",
    "def get_trigram_freq(text):\n",
    "    cnter = Counter(extract_trigrams(text))\n",
    "    all_trigram_sum = sum(cnter.values())\n",
    "    vocab_len = len(set(text))**3 # дополнительная регуляризация\n",
    "    return {k: (v / (all_trigram_sum + vocab_len)) for k, v in cnter.items()}\n",
    "\n",
    "def get_log_likelihood(text, ch_map, orig_freq):\n",
    "    decoded = encode_by_map(text, ch_map)\n",
    "    decoded_freq = Counter(extract_trigrams(decoded))\n",
    "    all_trigram_sum = sum(decoded_freq.values())\n",
    "    vocab_len = len(set(text))**3\n",
    "    score = 0\n",
    "    for key, val in decoded_freq.items():\n",
    "        if key in orig_freq:\n",
    "            score += val * np.log(orig_freq[key])\n",
    "        else:\n",
    "            score += val * np.log(1 / (all_trigram_sum + vocab_len))\n",
    "    return score"
   ]
  },
  {
   "cell_type": "code",
   "execution_count": 37,
   "metadata": {},
   "outputs": [
    {
     "name": "stderr",
     "output_type": "stream",
     "text": [
      " 10%|█         | 1/10 [00:04<00:38,  4.29s/it]"
     ]
    },
    {
     "name": "stdout",
     "output_type": "stream",
     "text": [
      "0 -1750.23 если вы видите нормальный или почти нормальный текст у бтого соошжения который легко прочитать скоре\n"
     ]
    },
    {
     "name": "stderr",
     "output_type": "stream",
     "text": [
      " 30%|███       | 3/10 [00:12<00:29,  4.27s/it]"
     ]
    },
    {
     "name": "stdout",
     "output_type": "stream",
     "text": [
      "1 -1750.23 если вы видите нормальный или почти нормальный текст у бтого соошжения который легко прочитать скоре\n",
      "2 -1750.23 если вы видите нормальный или почти нормальный текст у бтого соошжения который легко прочитать скоре\n"
     ]
    },
    {
     "name": "stderr",
     "output_type": "stream",
     "text": [
      " 50%|█████     | 5/10 [00:21<00:21,  4.34s/it]"
     ]
    },
    {
     "name": "stdout",
     "output_type": "stream",
     "text": [
      "3 -1756.1 если вы видите нормальный или почти нормальный текст у хтого соожшения который легко прочитать скоре\n",
      "4 -1750.23 если вы видите нормальный или почти нормальный текст у бтого соошжения который легко прочитать скоре\n"
     ]
    },
    {
     "name": "stderr",
     "output_type": "stream",
     "text": [
      " 70%|███████   | 7/10 [00:29<00:12,  4.23s/it]"
     ]
    },
    {
     "name": "stdout",
     "output_type": "stream",
     "text": [
      "5 -1932.03 отва ку казало нердивыную ава пемла нердивыную лостл х глеже тееьшоная селерую вожсе премалилы тсеро\n",
      "6 -1934.48 есло ви водоте нмржальния оло пмчто нмржальния текст у гтмым сммхшеной кмтмрия леыкм прмчотать скмре\n",
      "7"
     ]
    },
    {
     "name": "stderr",
     "output_type": "stream",
     "text": [
      " 90%|█████████ | 9/10 [00:37<00:03,  3.95s/it]"
     ]
    },
    {
     "name": "stdout",
     "output_type": "stream",
     "text": [
      " -1750.23 если вы видите нормальный или почти нормальный текст у бтого соошжения который легко прочитать скоре\n",
      "8 -1960.51 адло гс гокона теьбылится оло перно теьбылится начдн у знеже деехйатом ченеься лажче пьероныни дчеьа\n",
      "9"
     ]
    },
    {
     "name": "stderr",
     "output_type": "stream",
     "text": [
      "100%|██████████| 10/10 [00:40<00:00,  4.09s/it]"
     ]
    },
    {
     "name": "stdout",
     "output_type": "stream",
     "text": [
      " -1883.15 етна сь сазале ворминывью ана подла ворминывью лектл у блого тоочшевая колорью негко продалилы ткоре\n",
      "Best score: -1750.233733245608\n"
     ]
    },
    {
     "name": "stderr",
     "output_type": "stream",
     "text": [
      "\n"
     ]
    }
   ],
   "source": [
    "trigram_corpora_freq = get_trigram_freq(text_ru)\n",
    "best_map = decode_by_mcmc_sampling(to_decode, alphabet_corpora, trigram_corpora_freq, decode_corpora, n_epochs=10)"
   ]
  },
  {
   "cell_type": "code",
   "execution_count": 38,
   "metadata": {},
   "outputs": [
    {
     "data": {
      "text/plain": [
       "'если вы видите нормальный или почти нормальный текст у бтого соошжения который легко прочитать скорее всего вы все сделали правильно и получите максимальный шалл за последнее четвертое задание курса хотя конечно я ничего не ошежаю'"
      ]
     },
     "execution_count": 38,
     "metadata": {},
     "output_type": "execute_result"
    }
   ],
   "source": [
    "encode_by_map(to_decode, best_map)"
   ]
  },
  {
   "cell_type": "markdown",
   "metadata": {},
   "source": [
    "Получилось быстрее и точнее, чем с биграммами. Теперь сравним на более крупных кусках текста"
   ]
  },
  {
   "cell_type": "code",
   "execution_count": 47,
   "metadata": {},
   "outputs": [
    {
     "data": {
      "text/plain": [
       "'ъвкихбсзятля вядвбушеяиелямвъах тдцауядйбяавщвбе ясщвеняаезфебу всфуное хфйчягхдвфтфсзявялтксмвлямхмяцъватфуяое ея еое хфйчягхдвфтфсзявяъвсэва елямхмяцъватфуяъвсэвацяъвщвктфяхэвсфвбяэхщебятяхбемсечяхбемсх аквщтиящвящсеыяаебхыякцмвщватщштчсзяфеэекуяэтсх теляихсфвящсэвлт хбяюфвфяфемсфяелцямхгхбвсуяифвясяфеыяэвкямхмяв явсфхбсзядегяое йяв яюфтлтясхлйлтяэквемфхлтядвбееясбцотбяъвсэвацяиеляэкеоаевиещта вея ефекэе теяибе хясвщефхяоебхщшеъвяцчфтявфя еъвя еяслцрхбвяхбемсезяхбемсх аквщтихяв яэекесфхбятгбхъхфуяфвбумвямвъахяибе ящвсэвбугвщхщштсуяэквывавлябтпхяпхксмвчяжхлтбттяцсмвбуг цбявфя еъввсфхщштсуяват яхбемсечяхбемсх аквщтиявэцсфтбяъвбвщцясвдткхзялйсбтяэвфвлякхссез  вявъбз цбсзятяэвшебямяащектяцямвфвквчя хаезбсзящсфкефтфуяъкхжт нябтатнятщх вщ цтямхмяв тящсеястбу йятягавквщйяжтгтиесмтяэвацлхбяхбемсечяхбемсх аквщтияъбзазя хялвъциеъвясякхсиесх  йлтяацштсфйлтядхме дхкахлтямхлекъекхятя хямкхс цняшенягхфз цфвъвящялц аткеям згзялтлвямвфвкйыяелця хавядйбвяэквчфтясэкхщеабтщвясмхгх вяифвящсеящялткеяесфуягбвяэвацлхбяв ямвсзсуяереякхгя хятмкйямхлекъекх ефвквэбтщвяэекеащтъхзя въхлтяхбемсечяхбемсх аквщтиясявдйи йлящтавляцсфхбвсфтятяавсфвт сфщхяэвмбв тбсзяюфтляъвсэвахляъвщвктщштлявя елятяъбзазящяащекуявфйсмтщхбяъбхгхлтяъкхжт нябтатнятщх вщ цяхяхбемсечяхбемсх аквщтиясмхгхбясфхктивмягбвд вядбесфзяъбхгхлтящяфвящкелзямхмямхке т яэвкхщ збсзяся тлятяывбва йляоесфвлясмбв тбяъвбвщцязящхсяерея еяэвгакхщтбясмхгхбяв яцмхгйщхзя хяеъвя вщвэвбцие  цнябе фцядбхъвахкнящхсявфщеихбяхбемсечяхбемсх аквщтиямхмвчя й иеяэкемкхс йчяае уяэктдхщтбяв яэвясщвечяэктщйимеявсвде  вя хбеъхзя хясбвщеяэкемкхс йчифвяв тяслезбтсуя хая тляв яг хбяюфвя вяв ятя еяоахбявфя тыя тиеъвямквлеящкхоаед всфтяв яцоеяэктщймямяюфвлццщтахщящвгайлхнртесзятгямвксефхяоебфйеяэбеитяъкхжт тябтаттятщх вщ йящйшеашечящяащекуятягвщцртеямяседеяэкемкхс йеягхацлитщйеяъбхгхяееяхбемсечяхбемсх аквщтияцбйд цбсзявфмкйщя ецщзахнртеядебйеягцдйятяэвавшебямя ечфцхбефябтаттятщх вщ йясфвтбяечядвбушвъвяфкцахямхмятящсеяееяфцхбефйящяюфвяэвсбеа ееящкелзяпебуяееяфцхбефхядйбхяфеэекуясвщселявдкхф хзяфвчямвфвкцняв хяэкесбеавщхбхяфктапхфуябефяфвлця хгхаяфвъахяечяывфебвсуяцмкхстфуяседзяиел тдцауятяиелядвбушеяфелябцишеяфеэекуя хэквфтщяв хявдзгхфебу вядйбхяфхмя есввфщефсфще  вяъвахлятяжтъцкеякхгцмкхше хяифвягхдвфтбхсуябтшуявяфвляифвдйяэквфтщвэвбво всфуяюфтыяцмкхше тчясяеея хкцо всфунядйбхя еясбтшмвляцохс хятящявф вше ттяхбемсезяхбемсх аквщтихяв хяавсфтъхбхяюфвъвятямхгхбхсуяелцяэктщбемхфебу вняабзя еъвяв хядйбхяеат сфще  йлявсфквщвля еяфвбумвяавдквъвямя елцякхсэвбвое тзя вябндщтяскеатялвкзящкхоаед всфтятя хслешмтямвфвквеявмкцохбвяеъвэквывазясмщвгуясфквчя хслешбтщйыящгъбзавщяв яесфесфще  вяфз цбсзямяееящбндбе  влцящгъбзацямхмякхсфе теямясщефцяэвгакхщбзнящхсясмхгхбхяв хяелцяцмхгйщхзяъбхгхлтя хябе фцсаекотщхзяцбйдмцяцавщвбусфщтзяв яэвохбяэбеихлтягхмкйщяъбхгхямхмядйяъвщвкзяифвяюфвя еялвоефякхавщхфуяеъвяъкхжт зябтатзятщх вщ хяг хбхяывквшвяифвяюфвява хятгяеъвяъбхщ йыякхавсфечяывфзяв я тмвъахятя еяэктг хефсзящяюфвляифвя хшях ъебясмхгхбхяъкхжт зябтатзятщх вщ хяэв'"
      ]
     },
     "execution_count": 47,
     "metadata": {},
     "output_type": "execute_result"
    }
   ],
   "source": [
    "substr = get_random_substr(text_ru, 3000)\n",
    "ch_map = get_init_char_map(ALPHABET)\n",
    "encoded_str = encode_by_map(substr, ch_map)\n",
    "encoded_str"
   ]
  },
  {
   "cell_type": "code",
   "execution_count": 48,
   "metadata": {},
   "outputs": [
    {
     "data": {
      "text/plain": [
       "'горчался им но больше чем когданибудь был доволен своею деятельностьюженатый заботится о мирском как угодить жене неженатый заботится о господнем как угодить господу говорит апостол павел и алексей александрович во всех делах руководившийся теперь писанием часто вспоминал этот текст ему казалось что с тех пор как он остался без жены он этими самыми проектами более служил господу чем преждеочевидное нетерпение члена совета желавшего уйти от него не смущало алексея александровича он перестал излагать только когда член воспользовавшись проходом лица царской фамилии ускользнул от негооставшись один алексей александрович опустил голову собирая мысли потом рассеянно оглянулся и пошел к двери у которой надеялся встретить графиню лидию ивановнуи как они все сильны и здоровы физически подумал алексей александрович глядя на могучего с расчесанными душистыми бакенбардами камергера и на красную шею затянутого в мундире князя мимо которых ему надо было пройти справедливо сказано что все в мире есть зло подумал он косясь еще раз на икры камергеранеторопливо передвигая ногами алексей александрович с обычным видом усталости и достоинства поклонился этим господам говорившим о нем и глядя в дверь отыскивал глазами графиню лидию ивановну а алексей александрович сказал старичок злобно блестя глазами в то время как каренин поравнялся с ним и холодным жестом склонил голову я вас еще не поздравил сказал он указывая на его новополученную ленту благодарю вас отвечал алексей александрович какой нынче прекрасный день прибавил он по своей привычке особенно налегая на слове прекрасныйчто они смеялись над ним он знал это но он и не ждал от них ничего кроме враждебности он уже привык к этомуувидав воздымающиеся из корсета желтые плечи графини лидии ивановны вышедшей в дверь и зовущие к себе прекрасные задумчивые глаза ее алексей александрович улыбнулся открыв неувядающие белые зубы и подошел к нейтуалет лидии ивановны стоил ей большого труда как и все ее туалеты в это последнее время цель ее туалета была теперь совсем обратная той которую она преследовала тридцать лет тому назад тогда ей хотелось украсить себя чемнибудь и чем больше тем лучше теперь напротив она обязательно была так несоответственно годам и фигуре разукрашена что заботилась лишь о том чтобы противоположность этих украшений с ее наружностью была не слишком ужасна и в отношении алексея александровича она достигала этого и казалась ему привлекательною для него она была единственным островом не только доброго к нему расположения но любви среди моря враждебности и насмешки которое окружало егопроходя сквозь строй насмешливых взглядов он естественно тянулся к ее влюбленному взгляду как растение к свету поздравляю вас сказала она ему указывая глазами на лентусдерживая улыбку удовольствия он пожал плечами закрыв глаза как бы говоря что это не может радовать его графиня лидия ивановна знала хорошо что это одна из его главных радостей хотя он никогда и не признается в этом что наш ангел сказала графиня лидия ивановна по'"
      ]
     },
     "execution_count": 48,
     "metadata": {},
     "output_type": "execute_result"
    }
   ],
   "source": [
    "substr"
   ]
  },
  {
   "cell_type": "code",
   "execution_count": 49,
   "metadata": {},
   "outputs": [
    {
     "name": "stderr",
     "output_type": "stream",
     "text": [
      "  0%|          | 0/5 [00:00<?, ?it/s]<ipython-input-23-aad4c4302265>:13: RuntimeWarning: overflow encountered in exp\n",
      "  if np.exp(new_score - score) > np.random.rand():\n",
      " 20%|██        | 1/5 [00:31<02:04, 31.14s/it]"
     ]
    },
    {
     "name": "stdout",
     "output_type": "stream",
     "text": [
      "0 -23186.25 горчалсх им но больше чем когданибудь был доволен своею дехтельностьюженатый заботитсх о мирском как\n"
     ]
    },
    {
     "name": "stderr",
     "output_type": "stream",
     "text": [
      " 40%|████      | 2/5 [01:04<01:35, 31.83s/it]"
     ]
    },
    {
     "name": "stdout",
     "output_type": "stream",
     "text": [
      "1 -23178.2 горчалсю им но больше чем когданибудь был доволен своеъ деютельностьъженатый заботитсю о мирском как\n"
     ]
    },
    {
     "name": "stderr",
     "output_type": "stream",
     "text": [
      " 60%|██████    | 3/5 [01:34<01:02, 31.24s/it]"
     ]
    },
    {
     "name": "stdout",
     "output_type": "stream",
     "text": [
      "2 -23186.25 горчалсх им но больше чем когданибудь был доволен своею дехтельностьюженатый заботитсх о мирском как\n"
     ]
    },
    {
     "name": "stderr",
     "output_type": "stream",
     "text": [
      " 80%|████████  | 4/5 [02:03<00:30, 30.68s/it]"
     ]
    },
    {
     "name": "stdout",
     "output_type": "stream",
     "text": [
      "3 -23186.25 горчалсх им но больше чем когданибудь был доволен своею дехтельностьюженатый заботитсх о мирском как\n"
     ]
    },
    {
     "name": "stderr",
     "output_type": "stream",
     "text": [
      "100%|██████████| 5/5 [02:32<00:00, 30.52s/it]"
     ]
    },
    {
     "name": "stdout",
     "output_type": "stream",
     "text": [
      "4 -23186.25 горчалсх им но больше чем когданибудь был доволен своею дехтельностьюженатый заботитсх о мирском как\n",
      "Best score: -23178.20033896192\n"
     ]
    },
    {
     "name": "stderr",
     "output_type": "stream",
     "text": [
      "\n"
     ]
    }
   ],
   "source": [
    "trigram_corpora_freq = get_trigram_freq(text_ru)\n",
    "best_map = decode_by_mcmc_sampling(encoded_str, ALPHABET, trigram_corpora_freq)"
   ]
  },
  {
   "cell_type": "code",
   "execution_count": 50,
   "metadata": {},
   "outputs": [
    {
     "data": {
      "text/plain": [
       "'горчалсю им но больше чем когданибудь был доволен своеъ деютельностьъженатый заботитсю о мирском как угодить жене неженатый заботитсю о господнем как угодить господу говорит апостол павел и алексей александрович во всех делах руководившийсю теперь писанием часто вспоминал этот текст ему казалось что с тех пор как он осталсю без жены он этими самыми проектами более служил господу чем преждеочевидное нетерпение члена совета желавшего уйти от него не смущало алексею александровича он перестал излагать только когда член воспользовавшись проходом лица царской фамилии ускользнул от негооставшись один алексей александрович опустил голову собираю мысли потом рассеюнно оглюнулсю и пошел к двери у которой надеюлсю встретить графинъ лидиъ ивановнуи как они все сильны и здоровы физически подумал алексей александрович глюдю на могучего с расчесанными душистыми бакенбардами камергера и на краснуъ шеъ затюнутого в мундире кнюзю мимо которых ему надо было пройти справедливо сказано что все в мире есть зло подумал он косюсь еще раз на икры камергеранеторопливо передвигаю ногами алексей александрович с обычным видом усталости и достоинства поклонилсю этим господам говорившим о нем и глюдю в дверь отыскивал глазами графинъ лидиъ ивановну а алексей александрович сказал старичок злобно блестю глазами в то времю как каренин поравнюлсю с ним и холодным жестом склонил голову ю вас еще не поздравил сказал он указываю на его новополученнуъ ленту благодаръ вас отвечал алексей александрович какой нынче прекрасный день прибавил он по своей привычке особенно налегаю на слове прекрасныйчто они смеюлись над ним он знал это но он и не ждал от них ничего кроме враждебности он уже привык к этомуувидав воздымаъщиесю из корсета желтые плечи графини лидии ивановны вышедшей в дверь и зовущие к себе прекрасные задумчивые глаза ее алексей александрович улыбнулсю открыв неувюдаъщие белые зубы и подошел к нейтуалет лидии ивановны стоил ей большого труда как и все ее туалеты в это последнее времю цель ее туалета была теперь совсем обратнаю той которуъ она преследовала тридцать лет тому назад тогда ей хотелось украсить себю чемнибудь и чем больше тем лучше теперь напротив она обюзательно была так несоответственно годам и фигуре разукрашена что заботилась лишь о том чтобы противоположность этих украшений с ее наружностьъ была не слишком ужасна и в отношении алексею александровича она достигала этого и казалась ему привлекательноъ длю него она была единственным островом не только доброго к нему расположению но лъбви среди морю враждебности и насмешки которое окружало егопроходю сквозь строй насмешливых взглюдов он естественно тюнулсю к ее влъбленному взглюду как растение к свету поздравлюъ вас сказала она ему указываю глазами на лентусдерживаю улыбку удовольствию он пожал плечами закрыв глаза как бы говорю что это не может радовать его графиню лидию ивановна знала хорошо что это одна из его главных радостей хотю он никогда и не признаетсю в этом что наш ангел сказала графиню лидию ивановна по'"
      ]
     },
     "execution_count": 50,
     "metadata": {},
     "output_type": "execute_result"
    }
   ],
   "source": [
    "encode_by_map(encoded_str, best_map)"
   ]
  },
  {
   "cell_type": "code",
   "execution_count": 51,
   "metadata": {},
   "outputs": [
    {
     "data": {
      "text/plain": [
       "0.9746666666666667"
      ]
     },
     "execution_count": 51,
     "metadata": {},
     "output_type": "execute_result"
    }
   ],
   "source": [
    "evaluate_accuracy(encode_by_map(encoded_str, best_map), substr)"
   ]
  },
  {
   "cell_type": "markdown",
   "metadata": {},
   "source": [
    "Получили сравнимый результат с МСМС на биграммах и за меньшее кол-во эпох."
   ]
  },
  {
   "cell_type": "markdown",
   "metadata": {},
   "source": [
    "### Возможные применения модели"
   ]
  },
  {
   "cell_type": "markdown",
   "metadata": {},
   "source": [
    "Мне кажется, что помимо расшифровки закодированных сообщений (в криминалистике, либо на войне) модель также может найти применение в биоинформатике - определять последовательные аллели генов. Также не исключена возможность анализа звуковых сигналов и вообще последовательностей любой природы."
   ]
  }
 ],
 "metadata": {
  "kernelspec": {
   "display_name": "Python 3",
   "language": "python",
   "name": "python3"
  },
  "language_info": {
   "codemirror_mode": {
    "name": "ipython",
    "version": 3
   },
   "file_extension": ".py",
   "mimetype": "text/x-python",
   "name": "python",
   "nbconvert_exporter": "python",
   "pygments_lexer": "ipython3",
   "version": "3.8.3"
  }
 },
 "nbformat": 4,
 "nbformat_minor": 4
}
